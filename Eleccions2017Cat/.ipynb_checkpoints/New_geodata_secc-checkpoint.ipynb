{
 "cells": [
  {
   "cell_type": "code",
   "execution_count": 12,
   "metadata": {},
   "outputs": [],
   "source": [
    "import shapefile\n",
    "import geopandas as gpd"
   ]
  },
  {
   "cell_type": "code",
   "execution_count": 84,
   "metadata": {},
   "outputs": [],
   "source": [
    "shapefiles_cns_2016 = '/home/tono/Downloads/bseccenv10sh1f1_2002a2016_0/bseccenv10sh1f1_20160101_0/bseccenv10sh1f1_20160101_0.shp'\n",
    "shapefiles_cns_2015 = '/home/tono/Downloads/bseccenv10sh1f1_2002a2016_0/bseccenv10sh1f1_20150101_0/bseccenv10sh1f1_20150101_0.shp'\n",
    "data_censo2016 = gpd.read_file(shapefiles_cns)"
   ]
  },
  {
   "cell_type": "code",
   "execution_count": 77,
   "metadata": {
    "scrolled": true
   },
   "outputs": [],
   "source": [
    "d = {'080734': 'Cornella', '080771': 'Esplugues',\n",
    "     '081017': 'Hospitalet'}\n",
    "cmun_tr = {'080734': '08073', '080771': '08077',\n",
    "           '081017': '08101'}\n",
    "f_filter = lambda x: x in list(d.keys())\n",
    "\n",
    "trio_geodata2016 = data_censo2016[data_censo2016['MUNICIPI'].apply(f_filter)]\n",
    "trio_geodata2016.loc[:, 'CUSEC'] =\\\n",
    "    (data_censo2016['MUNICIPI'].replace(cmun_tr) +\n",
    "     data_censo2016['DISTRICTE'] + data_censo2016['SECCIO'])\n",
    "trio_geodata2016.reset_index(drop=True, inplace=True)"
   ]
  },
  {
   "cell_type": "code",
   "execution_count": 80,
   "metadata": {},
   "outputs": [],
   "source": []
  },
  {
   "cell_type": "code",
   "execution_count": null,
   "metadata": {},
   "outputs": [],
   "source": []
  },
  {
   "cell_type": "code",
   "execution_count": 83,
   "metadata": {},
   "outputs": [],
   "source": [
    "trio_geodata2016.to_file('data/trio_llobregat_2016.geojson')"
   ]
  },
  {
   "cell_type": "code",
   "execution_count": 91,
   "metadata": {},
   "outputs": [],
   "source": [
    "def get_trio_llobregat(filename):\n",
    "    data_censo = gpd.read_file(shapefiles_cns)\n",
    "    d = {'080734': 'Cornella', '080771': 'Esplugues',\n",
    "         '081017': 'Hospitalet'}\n",
    "    cmun_tr = {'080734': '08073', '080771': '08077',\n",
    "               '081017': '08101'}\n",
    "    f_filter = lambda x: x in list(d.keys())\n",
    "\n",
    "    trio_geodata = data_censo2016[data_censo['MUNICIPI'].apply(f_filter)]\n",
    "    trio_geodata.loc[:, 'CUSEC'] =\\\n",
    "        (data_censo['MUNICIPI'].replace(cmun_tr) +\n",
    "         data_censo['DISTRICTE'] + data_censo['SECCIO'])\n",
    "    trio_geodata.reset_index(drop=True, inplace=True)\n",
    "    trio_geodata.to_crs(epsg=4326, inplace=True)\n",
    "    return trio_geodata\n",
    "\n",
    "\n",
    "trio_geodata2015 = get_trio_llobregat(shapefiles_cns_2015)\n",
    "trio_geodata2015.to_file('data/trio_llobregat_2015.geojson', driver='GeoJSON')\n",
    "trio_geodata2016 = get_trio_llobregat(shapefiles_cns_2016)\n",
    "trio_geodata2016.to_file('data/trio_llobregat_2016.geojson', driver='GeoJSON')"
   ]
  },
  {
   "cell_type": "code",
   "execution_count": 86,
   "metadata": {},
   "outputs": [
    {
     "name": "stdout",
     "output_type": "stream",
     "text": [
      "Help on method to_file in module geopandas.geodataframe:\n",
      "\n",
      "to_file(self, filename, driver='ESRI Shapefile', schema=None, **kwargs) method of geopandas.geodataframe.GeoDataFrame instance\n",
      "    Write this GeoDataFrame to an OGR data source\n",
      "    \n",
      "    A dictionary of supported OGR providers is available via:\n",
      "    >>> import fiona\n",
      "    >>> fiona.supported_drivers\n",
      "    \n",
      "    Parameters\n",
      "    ----------\n",
      "    filename : string\n",
      "        File path or file handle to write to.\n",
      "    driver : string, default 'ESRI Shapefile'\n",
      "        The OGR format driver used to write the vector file.\n",
      "    schema : dict, default None\n",
      "        If specified, the schema dictionary is passed to Fiona to\n",
      "        better control how the file is written.\n",
      "    \n",
      "    The *kwargs* are passed to fiona.open and can be used to write\n",
      "    to multi-layer data, store data within archives (zip files), etc.\n",
      "\n"
     ]
    }
   ],
   "source": [
    "help(trio_geodata2015.to_file)"
   ]
  },
  {
   "cell_type": "code",
   "execution_count": 97,
   "metadata": {},
   "outputs": [
    {
     "name": "stdout",
     "output_type": "stream",
     "text": [
      "Help on method to_crs in module geopandas.geodataframe:\n",
      "\n",
      "to_crs(self, crs=None, epsg=None, inplace=False) method of geopandas.geodataframe.GeoDataFrame instance\n",
      "    Transform geometries to a new coordinate reference system\n",
      "    \n",
      "    This method will transform all points in all objects.  It has\n",
      "    no notion or projecting entire geometries.  All segments\n",
      "    joining points are assumed to be lines in the current\n",
      "    projection, not geodesics.  Objects crossing the dateline (or\n",
      "    other projection boundary) will have undesirable behavior.\n",
      "    \n",
      "    `to_crs` passes the `crs` argument to the `Proj` function from the\n",
      "    `pyproj` library (with the option `preserve_units=True`). It can\n",
      "    therefore accept proj4 projections in any format\n",
      "    supported by `Proj`, including dictionaries, or proj4 strings.\n",
      "\n"
     ]
    }
   ],
   "source": [
    "help(trio_geodata2015.to_crs)"
   ]
  },
  {
   "cell_type": "code",
   "execution_count": null,
   "metadata": {
    "collapsed": true
   },
   "outputs": [],
   "source": []
  }
 ],
 "metadata": {
  "kernelspec": {
   "display_name": "Python 2",
   "language": "python",
   "name": "python2"
  },
  "language_info": {
   "codemirror_mode": {
    "name": "ipython",
    "version": 2
   },
   "file_extension": ".py",
   "mimetype": "text/x-python",
   "name": "python",
   "nbconvert_exporter": "python",
   "pygments_lexer": "ipython2",
   "version": "2.7.12"
  }
 },
 "nbformat": 4,
 "nbformat_minor": 2
}
